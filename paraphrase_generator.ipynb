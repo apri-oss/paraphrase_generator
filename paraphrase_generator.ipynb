{
  "cells": [
    {
      "cell_type": "code",
      "source": [
        "# @title load library dan install dependency\n",
        "import pandas as pd\n",
        "import tensorflow as tf\n",
        "import numpy as np\n",
        "\n"
      ],
      "metadata": {
        "id": "8DA4f5xvPHJq"
      },
      "execution_count": 2,
      "outputs": []
    },
    {
      "cell_type": "code",
      "source": [
        "url_train = \"https://raw.githubusercontent.com/apri-oss/paraphrase_generator/main/dataset/data_train.csv\"\n",
        "url_val = \"https://raw.githubusercontent.com/apri-oss/paraphrase_generator/main/dataset/data_validation.csv\"\n",
        "url_test = \"https://raw.githubusercontent.com/apri-oss/paraphrase_generator/main/dataset/data_test.csv\"\n",
        "\n",
        "data_train = pd.read_csv(url_train)\n",
        "data_validation = pd.read_csv(url_val)\n",
        "data_test = pd.read_csv(url_test)\n",
        "\n",
        "# Tampilkan 5 baris pertama\n",
        "print(f\"Jumlah data Training = {len(data_train)}\")\n",
        "print(f\"Jumlah data Validation = {len(data_validation)}\")\n",
        "print(f\"Jumlah data Testing = {len(data_test)}\")"
      ],
      "metadata": {
        "colab": {
          "base_uri": "https://localhost:8080/"
        },
        "id": "36nUK9kDJZ6M",
        "outputId": "4ccf1851-3d6a-4996-8981-5b7ca7cb1892"
      },
      "execution_count": 6,
      "outputs": [
        {
          "output_type": "stream",
          "name": "stdout",
          "text": [
            "Jumlah data Training = 2753\n",
            "Jumlah data Validation = 573\n",
            "Jumlah data Testing = 574\n"
          ]
        }
      ]
    }
  ],
  "metadata": {
    "colab": {
      "provenance": []
    },
    "kernelspec": {
      "display_name": "Python 3",
      "name": "python3"
    },
    "language_info": {
      "name": "python"
    }
  },
  "nbformat": 4,
  "nbformat_minor": 0
}